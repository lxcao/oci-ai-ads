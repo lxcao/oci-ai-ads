{
 "cells": [
  {
   "cell_type": "markdown",
   "metadata": {},
   "source": [
    "<font color=gray>Oracle Cloud Infrastructure Data Science Sample Notebook\n",
    "\n",
    "Copyright (c) 2021 Oracle, Inc.  All rights reserved. <br>\n",
    "Licensed under the Universal Permissive License v 1.0 as shown at https://oss.oracle.com/licenses/upl.\n",
    "</font>"
   ]
  },
  {
   "cell_type": "markdown",
   "metadata": {},
   "source": [
    "# Deploying an XGBoost Model with Model Deployment \n",
    "\n",
    "In this tutorial we are going to prepare and save an xgboost model artifact using the `ADSModel` `prepare()` method and deploy the model as an HTTP endpoint."
   ]
  },
  {
   "cell_type": "markdown",
   "metadata": {},
   "source": [
    "## Pre-requisites to Running this Notebook "
   ]
  },
  {
   "cell_type": "markdown",
   "metadata": {},
   "source": [
    "* We recommend that you run this notebook in a notebook session using the **Data Science Conda Environment \"General Machine Learning for CPU (v1.0)\"** \n",
    "* You need access to the public internet\n",
    "* Upgrade the current version of the OCI Python SDK (`oci`): "
   ]
  },
  {
   "cell_type": "code",
   "execution_count": null,
   "metadata": {},
   "outputs": [],
   "source": [
    "!pip install --upgrade oci"
   ]
  },
  {
   "cell_type": "code",
   "execution_count": 2,
   "metadata": {},
   "outputs": [],
   "source": [
    "import oci\n",
    "import ads\n",
    "import json\n",
    "import logging\n",
    "import os\n",
    "import tempfile\n",
    "import warnings\n",
    "from os import path\n",
    "from ads.common.model import ADSModel\n",
    "from ads.common.model_artifact import ModelArtifact\n",
    "from ads.dataset.dataset_browser import DatasetBrowser\n",
    "from xgboost import XGBRegressor\n",
    "from xgboost import XGBClassifier\n",
    "import time\n",
    "\n",
    "logging.basicConfig(format='%(levelname)s:%(message)s', level=logging.ERROR)\n",
    "warnings.filterwarnings('ignore')\n",
    "ads.set_documentation_mode(False)"
   ]
  },
  {
   "cell_type": "markdown",
   "metadata": {},
   "source": [
    "We're going to train a simple XGBoost classifier on the breast cancer dataset included in sklearn; "
   ]
  },
  {
   "cell_type": "code",
   "execution_count": 3,
   "metadata": {},
   "outputs": [
    {
     "data": {
      "application/vnd.jupyter.widget-view+json": {
       "model_id": "ad129ba3f7bc42b5bccb656e34e21abf",
       "version_major": 2,
       "version_minor": 0
      },
      "text/plain": [
       "loop1:   0%|          | 0/4 [00:00<?, ?it/s]"
      ]
     },
     "metadata": {},
     "output_type": "display_data"
    },
    {
     "name": "stdout",
     "output_type": "stream",
     "text": [
      "[14:40:23] WARNING: /Users/runner/work/xgboost/xgboost/src/learner.cc:1115: Starting in XGBoost 1.3.0, the default evaluation metric used with the objective 'binary:logistic' was changed from 'error' to 'logloss'. Explicitly set eval_metric if you'd like to restore the old behavior.\n"
     ]
    }
   ],
   "source": [
    "# Train xgboost model\n",
    "breast_cancer = DatasetBrowser.sklearn().open('breast_cancer').set_target(\"target\")\n",
    "train, test = breast_cancer.train_test_split(test_size=0.15)\n",
    "xgb_clf = XGBClassifier().fit(train.X.values, train.y)\n",
    "xgb_bin_model = ADSModel.from_estimator(xgb_clf)"
   ]
  },
  {
   "cell_type": "markdown",
   "metadata": {},
   "source": [
    "Here we are using the \"General Machine Learning for CPU\" Data Science conda environment. Since we don't modify the conda environment we don't need to publish it. We can use \"General Machine learning for CPU (v1.0)\" for model deployment as well. Thus we'll set `data_science_env=True` when preparing the artifact with ADS. \n",
    "\n",
    "Here we are using the `prepare()` method on an `ADSModel` object. "
   ]
  },
  {
   "cell_type": "code",
   "execution_count": 4,
   "metadata": {},
   "outputs": [
    {
     "data": {
      "application/vnd.jupyter.widget-view+json": {
       "model_id": "18945288afe64c7aad431f12800c825e",
       "version_major": 2,
       "version_minor": 0
      },
      "text/plain": [
       "loop1:   0%|          | 0/5 [00:00<?, ?it/s]"
      ]
     },
     "metadata": {},
     "output_type": "display_data"
    },
    {
     "name": "stdout",
     "output_type": "stream",
     "text": [
      "WARNING:root:Numerical values in `X` are cast to float32.\n",
      "WARNING:ads.common:Generating runtime.yaml template. This file needs to be updated before saving it to the model catalog.\n",
      "The inference conda environment is None and the Python version is None.\n",
      "Start loading model.onnx from model directory /Users/caolingxin/Documents/workspaces/oci-projects/oci-ai-ads/ads_samples/xboost_artifacts ...\n",
      "Model is successfully loaded.\n",
      "Start loading model.onnx from model directory /Users/caolingxin/Documents/workspaces/oci-projects/oci-ai-ads/ads_samples/xboost_artifacts ...\n",
      "Model is successfully loaded.\n"
     ]
    }
   ],
   "source": [
    "# Prepare the model artifact template\n",
    "path_to_model_artifacts = \"xboost_artifacts\"\n",
    "model_artifact = xgb_bin_model.prepare(path_to_model_artifacts,\n",
    "                                       force_overwrite=True,\n",
    "                                       data_sample=test,\n",
    "                                       fn_artifact_files_included=False,\n",
    "                                       data_science_env=True)"
   ]
  },
  {
   "cell_type": "markdown",
   "metadata": {},
   "source": [
    "Let's take a look at the artifact template files that ADS generated. "
   ]
  },
  {
   "cell_type": "code",
   "execution_count": 5,
   "metadata": {},
   "outputs": [
    {
     "name": "stdout",
     "output_type": "stream",
     "text": [
      "Model Artifact Path: xboost_artifacts\n",
      "\n",
      "Model Artifact Files:\n",
      ".model-ignore\n",
      "input_schema.json\n",
      "runtime.yaml\n",
      "output_schema.json\n",
      "onnx_data_transformer.json\n",
      "model.onnx\n",
      "score.py\n"
     ]
    }
   ],
   "source": [
    "# List the template files\n",
    "print(f\"Model Artifact Path: {path_to_model_artifacts}\\n\\nModel Artifact Files:\")\n",
    "for file in os.listdir(path_to_model_artifacts):\n",
    "    if path.isdir(path.join(path_to_model_artifacts, file)):\n",
    "        for file2 in os.listdir(path.join(path_to_model_artifacts, file)):\n",
    "            print(path.join(file, file2))\n",
    "    else:\n",
    "        print(file)"
   ]
  },
  {
   "cell_type": "markdown",
   "metadata": {},
   "source": [
    "Let's test the artifact before saving it to the model catalog and verify that the predictions made on a sample data match what we expect"
   ]
  },
  {
   "cell_type": "code",
   "execution_count": 6,
   "metadata": {},
   "outputs": [
    {
     "name": "stdout",
     "output_type": "stream",
     "text": [
      "WARNING:root:Numerical values in `X` are cast to float32.\n"
     ]
    },
    {
     "data": {
      "text/plain": [
       "{'prediction': ['benign', 'malignant', 'malignant', 'benign', 'benign']}"
      ]
     },
     "execution_count": 6,
     "metadata": {},
     "output_type": "execute_result"
    }
   ],
   "source": [
    "# Validate predicion\n",
    "model_artifact.predict(data=test.X[:5], model=model_artifact.load_model())"
   ]
  },
  {
   "cell_type": "markdown",
   "metadata": {},
   "source": [
    "We can now save the model to the catalog: "
   ]
  },
  {
   "cell_type": "code",
   "execution_count": 8,
   "metadata": {},
   "outputs": [
    {
     "data": {
      "application/vnd.jupyter.widget-view+json": {
       "model_id": "96716f63035a4d08b7b04f2657ae5c1d",
       "version_major": 2,
       "version_minor": 0
      },
      "text/plain": [
       "loop1:   0%|          | 0/5 [00:00<?, ?it/s]"
      ]
     },
     "metadata": {},
     "output_type": "display_data"
    }
   ],
   "source": [
    "project_id = \"ocid1.datascienceproject.oc1.ap-singapore-1.amaaaaaacuco5yqaflrupyqjvr7m7edjfyyp355tqjdb7dnzd2b23kty7waq\" \n",
    "compartment_id = \"ocid1.compartment.oc1..aaaaaaaayjcsmu5ii7ac3kncp5qlbsslaj7irtc3mo4oco22w7ucsiq3atmq\"\n",
    "\n",
    "ads.set_auth(auth=\"api_key\", oci_config_location=oci.config.DEFAULT_LOCATION, profile=\"specialist2-4sdk\")\n",
    "\n",
    "mc_model = model_artifact.save(\n",
    "    project_id=project_id, compartment_id=compartment_id, \n",
    "    display_name=\"XGB_model (Model Deployment Test)\",\n",
    "    description=\"Testing XGB_model Model Deployment\",\n",
    "    ignore_pending_changes=True)"
   ]
  },
  {
   "cell_type": "markdown",
   "metadata": {},
   "source": [
    "The model metadata, including its OCID value (`id`): "
   ]
  },
  {
   "cell_type": "code",
   "execution_count": 9,
   "metadata": {},
   "outputs": [
    {
     "data": {
      "text/html": [
       "<style type=\"text/css\">\n",
       "#T_bb0c5_row0_col0, #T_bb0c5_row1_col0, #T_bb0c5_row2_col0, #T_bb0c5_row3_col0, #T_bb0c5_row4_col0, #T_bb0c5_row5_col0, #T_bb0c5_row6_col0, #T_bb0c5_row7_col0, #T_bb0c5_row8_col0, #T_bb0c5_row9_col0, #T_bb0c5_row10_col0, #T_bb0c5_row11_col0, #T_bb0c5_row12_col0 {\n",
       "  margin-left: 0px;\n",
       "}\n",
       "</style>\n",
       "<table id=\"T_bb0c5_\">\n",
       "  <thead>\n",
       "    <tr>\n",
       "      <th class=\"blank level0\" >&nbsp;</th>\n",
       "      <th class=\"col_heading level0 col0\" ></th>\n",
       "    </tr>\n",
       "  </thead>\n",
       "  <tbody>\n",
       "    <tr>\n",
       "      <th id=\"T_bb0c5_level0_row0\" class=\"row_heading level0 row0\" >display_name</th>\n",
       "      <td id=\"T_bb0c5_row0_col0\" class=\"data row0 col0\" >XGB_model (Model Deployment Test)</td>\n",
       "    </tr>\n",
       "    <tr>\n",
       "      <th id=\"T_bb0c5_level0_row1\" class=\"row_heading level0 row1\" >description</th>\n",
       "      <td id=\"T_bb0c5_row1_col0\" class=\"data row1 col0\" >Testing XGB_model Model Deployment</td>\n",
       "    </tr>\n",
       "    <tr>\n",
       "      <th id=\"T_bb0c5_level0_row2\" class=\"row_heading level0 row2\" >freeform_tags</th>\n",
       "      <td id=\"T_bb0c5_row2_col0\" class=\"data row2 col0\" >{}</td>\n",
       "    </tr>\n",
       "    <tr>\n",
       "      <th id=\"T_bb0c5_level0_row3\" class=\"row_heading level0 row3\" >defined_tags</th>\n",
       "      <td id=\"T_bb0c5_row3_col0\" class=\"data row3 col0\" >{'owner': {'owner': 'speciallist2.admin02'}}</td>\n",
       "    </tr>\n",
       "    <tr>\n",
       "      <th id=\"T_bb0c5_level0_row4\" class=\"row_heading level0 row4\" >repository_url</th>\n",
       "      <td id=\"T_bb0c5_row4_col0\" class=\"data row4 col0\" >https://github.com/lxcao/oci-ai-ads.git</td>\n",
       "    </tr>\n",
       "    <tr>\n",
       "      <th id=\"T_bb0c5_level0_row5\" class=\"row_heading level0 row5\" >git_branch</th>\n",
       "      <td id=\"T_bb0c5_row5_col0\" class=\"data row5 col0\" >master</td>\n",
       "    </tr>\n",
       "    <tr>\n",
       "      <th id=\"T_bb0c5_level0_row6\" class=\"row_heading level0 row6\" >git_commit</th>\n",
       "      <td id=\"T_bb0c5_row6_col0\" class=\"data row6 col0\" >d966c657877fb9b1179302981d51891e7a152ff4</td>\n",
       "    </tr>\n",
       "    <tr>\n",
       "      <th id=\"T_bb0c5_level0_row7\" class=\"row_heading level0 row7\" >script_dir</th>\n",
       "      <td id=\"T_bb0c5_row7_col0\" class=\"data row7 col0\" >/Users/caolingxin/Documents/workspaces/oci-projects/oci-ai-ads/ads_samples/xboost_artifacts</td>\n",
       "    </tr>\n",
       "    <tr>\n",
       "      <th id=\"T_bb0c5_level0_row8\" class=\"row_heading level0 row8\" >training_script</th>\n",
       "      <td id=\"T_bb0c5_row8_col0\" class=\"data row8 col0\" >None</td>\n",
       "    </tr>\n",
       "    <tr>\n",
       "      <th id=\"T_bb0c5_level0_row9\" class=\"row_heading level0 row9\" >schema_input</th>\n",
       "      <td id=\"T_bb0c5_row9_col0\" class=\"data row9 col0\" >{'schema': [{'dtype': 'float64', 'feature_type': 'Continuous', 'name': 'mean_radius', 'domain': {'values': 'Continuous', 'stats': {'count': 86.0, 'mean': 14.114, 'standard deviation': 3.521, 'sample minimum': 6.981, 'lower quartile': 11.688, 'median': 13.405, 'upper quartile': 15.96, 'sample maximum': 25.22, 'skew': 0.816}, 'constraints': []}, 'required': True, 'description': 'mean_radius', 'order': 0}, {'dtype': 'float64', 'feature_type': 'Continuous', 'name': 'mean_texture', 'domain': {'values': 'Continuous', 'stats': {'count': 86.0, 'mean': 19.498, 'standard deviation': 4.185, 'sample minimum': 10.94, 'lower quartile': 16.218, 'median': 19.32, 'upper quartile': 22.365, 'sample maximum': 29.33, 'skew': 0.125}, 'constraints': []}, 'required': True, 'description': 'mean_texture', 'order': 1}, {'dtype': 'float64', 'feature_type': 'Continuous', 'name': 'mean_perimeter', 'domain': {'values': 'Continuous', 'stats': {'count': 86.0, 'mean': 92.018, 'standard deviation': 24.706, 'sample minimum': 43.79, 'lower quartile': 75.225, 'median': 87.17, 'upper quartile': 105.175, 'sample maximum': 171.5, 'skew': 0.896}, 'constraints': []}, 'required': True, 'description': 'mean_perimeter', 'order': 2}, {'dtype': 'float64', 'feature_type': 'Continuous', 'name': 'mean_area', 'domain': {'values': 'Continuous', 'stats': {'count': 86.0, 'mean': 651.25, 'standard deviation': 339.543, 'sample minimum': 143.5, 'lower quartile': 419.725, 'median': 544.05, 'upper quartile': 794.0, 'sample maximum': 1878.0, 'skew': 1.309}, 'constraints': []}, 'required': True, 'description': 'mean_area', 'order': 3}, {'dtype': 'float64', 'feature_type': 'Continuous', 'name': 'mean_smoothness', 'domain': {'values': 'Continuous', 'stats': {'count': 86.0, 'mean': 0.099, 'standard deviation': 0.015, 'sample minimum': 0.068, 'lower quartile': 0.089, 'median': 0.1, 'upper quartile': 0.107, 'sample maximum': 0.137, 'skew': 0.258}, 'constraints': []}, 'required': True, 'description': 'mean_smoothness', 'order': 4}, {'dtype': 'float64', 'feature_type': 'Continuous', 'name': 'mean_compactness', 'domain': {'values': 'Continuous', 'stats': {'count': 86.0, 'mean': 0.107, 'standard deviation': 0.056, 'sample minimum': 0.039, 'lower quartile': 0.069, 'median': 0.097, 'upper quartile': 0.128, 'sample maximum': 0.345, 'skew': 1.678}, 'constraints': []}, 'required': True, 'description': 'mean_compactness', 'order': 5}, {'dtype': 'float64', 'feature_type': 'Continuous', 'name': 'mean_concavity', 'domain': {'values': 'Continuous', 'stats': {'count': 86.0, 'mean': 0.09, 'standard deviation': 0.086, 'sample minimum': 0.0, 'lower quartile': 0.028, 'median': 0.06, 'upper quartile': 0.112, 'sample maximum': 0.375, 'skew': 1.478}, 'constraints': []}, 'required': True, 'description': 'mean_concavity', 'order': 6}, {'dtype': 'float64', 'feature_type': 'Continuous', 'name': 'mean_concave_points', 'domain': {'values': 'Continuous', 'stats': {'count': 86.0, 'mean': 0.052, 'standard deviation': 0.044, 'sample minimum': 0.0, 'lower quartile': 0.02, 'median': 0.033, 'upper quartile': 0.069, 'sample maximum': 0.184, 'skew': 1.228}, 'constraints': []}, 'required': True, 'description': 'mean_concave_points', 'order': 7}, {'dtype': 'float64', 'feature_type': 'Continuous', 'name': 'mean_symmetry', 'domain': {'values': 'Continuous', 'stats': {'count': 86.0, 'mean': 0.185, 'standard deviation': 0.026, 'sample minimum': 0.14, 'lower quartile': 0.166, 'median': 0.182, 'upper quartile': 0.194, 'sample maximum': 0.291, 'skew': 1.131}, 'constraints': []}, 'required': True, 'description': 'mean_symmetry', 'order': 8}, {'dtype': 'float64', 'feature_type': 'Continuous', 'name': 'mean_fractal_dimension', 'domain': {'values': 'Continuous', 'stats': {'count': 86.0, 'mean': 0.063, 'standard deviation': 0.006, 'sample minimum': 0.053, 'lower quartile': 0.059, 'median': 0.062, 'upper quartile': 0.066, 'sample maximum': 0.081, 'skew': 0.807}, 'constraints': []}, 'required': True, 'description': 'mean_fractal_dimension', 'order': 9}, {'dtype': 'float64', 'feature_type': 'Continuous', 'name': 'radius_error', 'domain': {'values': 'Continuous', 'stats': {'count': 86.0, 'mean': 0.403, 'standard deviation': 0.233, 'sample minimum': 0.117, 'lower quartile': 0.222, 'median': 0.314, 'upper quartile': 0.551, 'sample maximum': 1.176, 'skew': 1.193}, 'constraints': []}, 'required': True, 'description': 'radius_error', 'order': 10}, {'dtype': 'float64', 'feature_type': 'Continuous', 'name': 'texture_error', 'domain': {'values': 'Continuous', 'stats': {'count': 86.0, 'mean': 1.23, 'standard deviation': 0.534, 'sample minimum': 0.48, 'lower quartile': 0.821, 'median': 1.103, 'upper quartile': 1.473, 'sample maximum': 2.927, 'skew': 1.079}, 'constraints': []}, 'required': True, 'description': 'texture_error', 'order': 11}, {'dtype': 'float64', 'feature_type': 'Continuous', 'name': 'perimeter_error', 'domain': {'values': 'Continuous', 'stats': {'count': 86.0, 'mean': 2.812, 'standard deviation': 1.723, 'sample minimum': 0.771, 'lower quartile': 1.547, 'median': 2.29, 'upper quartile': 3.683, 'sample maximum': 8.649, 'skew': 1.415}, 'constraints': []}, 'required': True, 'description': 'perimeter_error', 'order': 12}, {'dtype': 'float64', 'feature_type': 'Continuous', 'name': 'area_error', 'domain': {'values': 'Continuous', 'stats': {'count': 86.0, 'mean': 38.773, 'standard deviation': 32.778, 'sample minimum': 8.955, 'lower quartile': 16.68, 'median': 22.905, 'upper quartile': 49.485, 'sample maximum': 158.7, 'skew': 1.719}, 'constraints': []}, 'required': True, 'description': 'area_error', 'order': 13}, {'dtype': 'float64', 'feature_type': 'Continuous', 'name': 'smoothness_error', 'domain': {'values': 'Continuous', 'stats': {'count': 86.0, 'mean': 0.007, 'standard deviation': 0.003, 'sample minimum': 0.003, 'lower quartile': 0.005, 'median': 0.006, 'upper quartile': 0.009, 'sample maximum': 0.015, 'skew': 0.968}, 'constraints': []}, 'required': True, 'description': 'smoothness_error', 'order': 14}, {'dtype': 'float64', 'feature_type': 'Continuous', 'name': 'compactness_error', 'domain': {'values': 'Continuous', 'stats': {'count': 86.0, 'mean': 0.024, 'standard deviation': 0.014, 'sample minimum': 0.006, 'lower quartile': 0.014, 'median': 0.02, 'upper quartile': 0.033, 'sample maximum': 0.068, 'skew': 1.059}, 'constraints': []}, 'required': True, 'description': 'compactness_error', 'order': 15}, {'dtype': 'float64', 'feature_type': 'Continuous', 'name': 'concavity_error', 'domain': {'values': 'Continuous', 'stats': {'count': 86.0, 'mean': 0.028, 'standard deviation': 0.021, 'sample minimum': 0.0, 'lower quartile': 0.013, 'median': 0.022, 'upper quartile': 0.04, 'sample maximum': 0.109, 'skew': 1.31}, 'constraints': []}, 'required': True, 'description': 'concavity_error', 'order': 16}, {'dtype': 'float64', 'feature_type': 'Continuous', 'name': 'concave_points_error', 'domain': {'values': 'Continuous', 'stats': {'count': 86.0, 'mean': 0.011, 'standard deviation': 0.006, 'sample minimum': 0.0, 'lower quartile': 0.008, 'median': 0.01, 'upper quartile': 0.015, 'sample maximum': 0.029, 'skew': 0.611}, 'constraints': []}, 'required': True, 'description': 'concave_points_error', 'order': 17}, {'dtype': 'float64', 'feature_type': 'Continuous', 'name': 'symmetry_error', 'domain': {'values': 'Continuous', 'stats': {'count': 86.0, 'mean': 0.021, 'standard deviation': 0.009, 'sample minimum': 0.011, 'lower quartile': 0.015, 'median': 0.019, 'upper quartile': 0.026, 'sample maximum': 0.079, 'skew': 3.252}, 'constraints': []}, 'required': True, 'description': 'symmetry_error', 'order': 18}, {'dtype': 'float64', 'feature_type': 'Continuous', 'name': 'fractal_dimension_error', 'domain': {'values': 'Continuous', 'stats': {'count': 86.0, 'mean': 0.004, 'standard deviation': 0.002, 'sample minimum': 0.001, 'lower quartile': 0.002, 'median': 0.003, 'upper quartile': 0.005, 'sample maximum': 0.01, 'skew': 1.347}, 'constraints': []}, 'required': True, 'description': 'fractal_dimension_error', 'order': 19}, {'dtype': 'float64', 'feature_type': 'Continuous', 'name': 'worst_radius', 'domain': {'values': 'Continuous', 'stats': {'count': 86.0, 'mean': 16.196, 'standard deviation': 4.736, 'sample minimum': 7.93, 'lower quartile': 12.85, 'median': 14.865, 'upper quartile': 19.242, 'sample maximum': 30.0, 'skew': 0.922}, 'constraints': []}, 'required': True, 'description': 'worst_radius', 'order': 20}, {'dtype': 'float64', 'feature_type': 'Continuous', 'name': 'worst_texture', 'domain': {'values': 'Continuous', 'stats': {'count': 86.0, 'mean': 25.609, 'standard deviation': 5.587, 'sample minimum': 12.49, 'lower quartile': 21.095, 'median': 25.8, 'upper quartile': 29.228, 'sample maximum': 39.42, 'skew': 0.052}, 'constraints': []}, 'required': True, 'description': 'worst_texture', 'order': 21}, {'dtype': 'float64', 'feature_type': 'Continuous', 'name': 'worst_perimeter', 'domain': {'values': 'Continuous', 'stats': {'count': 86.0, 'mean': 106.587, 'standard deviation': 33.596, 'sample minimum': 50.41, 'lower quartile': 84.012, 'median': 96.505, 'upper quartile': 124.625, 'sample maximum': 211.7, 'skew': 1.028}, 'constraints': []}, 'required': True, 'description': 'worst_perimeter', 'order': 22}, {'dtype': 'float64', 'feature_type': 'Continuous', 'name': 'worst_area', 'domain': {'values': 'Continuous', 'stats': {'count': 86.0, 'mean': 864.16, 'standard deviation': 523.8, 'sample minimum': 185.2, 'lower quartile': 507.05, 'median': 656.75, 'upper quartile': 1154.5, 'sample maximum': 2562.0, 'skew': 1.287}, 'constraints': []}, 'required': True, 'description': 'worst_area', 'order': 23}, {'dtype': 'float64', 'feature_type': 'Continuous', 'name': 'worst_smoothness', 'domain': {'values': 'Continuous', 'stats': {'count': 86.0, 'mean': 0.135, 'standard deviation': 0.02, 'sample minimum': 0.094, 'lower quartile': 0.123, 'median': 0.136, 'upper quartile': 0.145, 'sample maximum': 0.186, 'skew': 0.234}, 'constraints': []}, 'required': True, 'description': 'worst_smoothness', 'order': 24}, {'dtype': 'float64', 'feature_type': 'Continuous', 'name': 'worst_compactness', 'domain': {'values': 'Continuous', 'stats': {'count': 86.0, 'mean': 0.252, 'standard deviation': 0.155, 'sample minimum': 0.071, 'lower quartile': 0.144, 'median': 0.212, 'upper quartile': 0.311, 'sample maximum': 0.868, 'skew': 1.598}, 'constraints': []}, 'required': True, 'description': 'worst_compactness', 'order': 25}, {'dtype': 'float64', 'feature_type': 'Continuous', 'name': 'worst_concavity', 'domain': {'values': 'Continuous', 'stats': {'count': 86.0, 'mean': 0.259, 'standard deviation': 0.204, 'sample minimum': 0.0, 'lower quartile': 0.095, 'median': 0.204, 'upper quartile': 0.379, 'sample maximum': 0.939, 'skew': 1.095}, 'constraints': []}, 'required': True, 'description': 'worst_concavity', 'order': 26}, {'dtype': 'float64', 'feature_type': 'Continuous', 'name': 'worst_concave_points', 'domain': {'values': 'Continuous', 'stats': {'count': 86.0, 'mean': 0.115, 'standard deviation': 0.068, 'sample minimum': 0.0, 'lower quartile': 0.069, 'median': 0.099, 'upper quartile': 0.164, 'sample maximum': 0.287, 'skew': 0.593}, 'constraints': []}, 'required': True, 'description': 'worst_concave_points', 'order': 27}, {'dtype': 'float64', 'feature_type': 'Continuous', 'name': 'worst_symmetry', 'domain': {'values': 'Continuous', 'stats': {'count': 86.0, 'mean': 0.29, 'standard deviation': 0.053, 'sample minimum': 0.2, 'lower quartile': 0.254, 'median': 0.281, 'upper quartile': 0.319, 'sample maximum': 0.544, 'skew': 1.476}, 'constraints': []}, 'required': True, 'description': 'worst_symmetry', 'order': 28}, {'dtype': 'float64', 'feature_type': 'Continuous', 'name': 'worst_fractal_dimension', 'domain': {'values': 'Continuous', 'stats': {'count': 86.0, 'mean': 0.084, 'standard deviation': 0.015, 'sample minimum': 0.06, 'lower quartile': 0.072, 'median': 0.08, 'upper quartile': 0.093, 'sample maximum': 0.134, 'skew': 1.003}, 'constraints': []}, 'required': True, 'description': 'worst_fractal_dimension', 'order': 29}], 'version': '1.1'}</td>\n",
       "    </tr>\n",
       "    <tr>\n",
       "      <th id=\"T_bb0c5_level0_row10\" class=\"row_heading level0 row10\" >schema_output</th>\n",
       "      <td id=\"T_bb0c5_row10_col0\" class=\"data row10 col0\" >{'schema': [{'dtype': 'category', 'feature_type': 'Category', 'name': 'target', 'domain': {'values': 'Category', 'stats': {'count': 86, 'unique': 2}, 'constraints': [{'expression': \"$x in ['benign', 'malignant']\", 'language': 'python'}]}, 'required': True, 'description': 'target', 'order': 0}], 'version': '1.1'}</td>\n",
       "    </tr>\n",
       "    <tr>\n",
       "      <th id=\"T_bb0c5_level0_row11\" class=\"row_heading level0 row11\" >metadata_custom</th>\n",
       "      <td id=\"T_bb0c5_row11_col0\" class=\"data row11 col0\" >{'data': [{'key': 'SlugName', 'value': 'NA', 'description': 'The slug name of the training conda environment.', 'category': 'Training Environment'}, {'key': 'CondaEnvironmentPath', 'value': 'NA', 'description': 'The oci path of the training conda environment.', 'category': 'Training Environment'}, {'key': 'ModelArtifacts', 'value': '.model-ignore, input_schema.json, runtime.yaml, output_schema.json, onnx_data_transformer.json, model.onnx, score.py', 'description': 'The list of files located in artifacts folder.', 'category': 'Training Environment'}, {'key': 'CondaEnvironment', 'value': 'NA', 'description': 'The conda environment where the model was trained.', 'category': 'Training Environment'}, {'key': 'ClientLibrary', 'value': 'ADS', 'description': None, 'category': 'Other'}, {'key': 'ModelSerializationFormat', 'value': 'onnx', 'description': 'The model serialization format.', 'category': 'Training Profile'}, {'key': 'EnvironmentType', 'value': 'NA', 'description': \"The environment type, must be a 'published' or 'data_science'.\", 'category': 'Training Environment'}]}</td>\n",
       "    </tr>\n",
       "    <tr>\n",
       "      <th id=\"T_bb0c5_level0_row12\" class=\"row_heading level0 row12\" >metadata_taxonomy</th>\n",
       "      <td id=\"T_bb0c5_row12_col0\" class=\"data row12 col0\" >{'data': [{'key': 'Algorithm', 'value': 'XGBClassifier'}, {'key': 'ArtifactTestResults', 'value': None}, {'key': 'Framework', 'value': 'xgboost'}, {'key': 'UseCaseType', 'value': None}, {'key': 'FrameworkVersion', 'value': '1.5.1'}, {'key': 'Hyperparameters', 'value': {'objective': 'binary:logistic', 'use_label_encoder': True, 'base_score': 0.5, 'booster': 'gbtree', 'colsample_bylevel': 1, 'colsample_bynode': 1, 'colsample_bytree': 1, 'enable_categorical': False, 'gamma': 0, 'gpu_id': -1, 'importance_type': None, 'interaction_constraints': '', 'learning_rate': 0.300000012, 'max_delta_step': 0, 'max_depth': 6, 'min_child_weight': 1, 'missing': None, 'monotone_constraints': '()', 'n_estimators': 100, 'n_jobs': 8, 'num_parallel_tree': 1, 'predictor': 'auto', 'random_state': 0, 'reg_alpha': 0, 'reg_lambda': 1, 'scale_pos_weight': 1, 'subsample': 1, 'tree_method': 'exact', 'validate_parameters': 1, 'verbosity': None}}]}</td>\n",
       "    </tr>\n",
       "  </tbody>\n",
       "</table>\n"
      ],
      "text/plain": [
       "<style type=\"text/css\">\n",
       "#T_3988f_row0_col0, #T_3988f_row1_col0, #T_3988f_row2_col0, #T_3988f_row3_col0, #T_3988f_row4_col0, #T_3988f_row5_col0, #T_3988f_row6_col0, #T_3988f_row7_col0, #T_3988f_row8_col0, #T_3988f_row9_col0, #T_3988f_row10_col0, #T_3988f_row11_col0, #T_3988f_row12_col0 {\n",
       "  margin-left: 0px;\n",
       "}\n",
       "</style>\n",
       "<table id=\"T_3988f_\">\n",
       "  <thead>\n",
       "    <tr>\n",
       "      <th class=\"blank level0\" >&nbsp;</th>\n",
       "      <th class=\"col_heading level0 col0\" ></th>\n",
       "    </tr>\n",
       "  </thead>\n",
       "  <tbody>\n",
       "    <tr>\n",
       "      <th id=\"T_3988f_level0_row0\" class=\"row_heading level0 row0\" >display_name</th>\n",
       "      <td id=\"T_3988f_row0_col0\" class=\"data row0 col0\" >XGB_model (Model Deployment Test)</td>\n",
       "    </tr>\n",
       "    <tr>\n",
       "      <th id=\"T_3988f_level0_row1\" class=\"row_heading level0 row1\" >description</th>\n",
       "      <td id=\"T_3988f_row1_col0\" class=\"data row1 col0\" >Testing XGB_model Model Deployment</td>\n",
       "    </tr>\n",
       "    <tr>\n",
       "      <th id=\"T_3988f_level0_row2\" class=\"row_heading level0 row2\" >freeform_tags</th>\n",
       "      <td id=\"T_3988f_row2_col0\" class=\"data row2 col0\" >{}</td>\n",
       "    </tr>\n",
       "    <tr>\n",
       "      <th id=\"T_3988f_level0_row3\" class=\"row_heading level0 row3\" >defined_tags</th>\n",
       "      <td id=\"T_3988f_row3_col0\" class=\"data row3 col0\" >{'owner': {'owner': 'speciallist2.admin02'}}</td>\n",
       "    </tr>\n",
       "    <tr>\n",
       "      <th id=\"T_3988f_level0_row4\" class=\"row_heading level0 row4\" >repository_url</th>\n",
       "      <td id=\"T_3988f_row4_col0\" class=\"data row4 col0\" >https://github.com/lxcao/oci-ai-ads.git</td>\n",
       "    </tr>\n",
       "    <tr>\n",
       "      <th id=\"T_3988f_level0_row5\" class=\"row_heading level0 row5\" >git_branch</th>\n",
       "      <td id=\"T_3988f_row5_col0\" class=\"data row5 col0\" >master</td>\n",
       "    </tr>\n",
       "    <tr>\n",
       "      <th id=\"T_3988f_level0_row6\" class=\"row_heading level0 row6\" >git_commit</th>\n",
       "      <td id=\"T_3988f_row6_col0\" class=\"data row6 col0\" >d966c657877fb9b1179302981d51891e7a152ff4</td>\n",
       "    </tr>\n",
       "    <tr>\n",
       "      <th id=\"T_3988f_level0_row7\" class=\"row_heading level0 row7\" >script_dir</th>\n",
       "      <td id=\"T_3988f_row7_col0\" class=\"data row7 col0\" >/Users/caolingxin/Documents/workspaces/oci-projects/oci-ai-ads/ads_samples/xboost_artifacts</td>\n",
       "    </tr>\n",
       "    <tr>\n",
       "      <th id=\"T_3988f_level0_row8\" class=\"row_heading level0 row8\" >training_script</th>\n",
       "      <td id=\"T_3988f_row8_col0\" class=\"data row8 col0\" >None</td>\n",
       "    </tr>\n",
       "    <tr>\n",
       "      <th id=\"T_3988f_level0_row9\" class=\"row_heading level0 row9\" >schema_input</th>\n",
       "      <td id=\"T_3988f_row9_col0\" class=\"data row9 col0\" >{'schema': [{'dtype': 'float64', 'feature_type': 'Continuous', 'name': 'mean_radius', 'domain': {'values': 'Continuous', 'stats': {'count': 86.0, 'mean': 14.114, 'standard deviation': 3.521, 'sample minimum': 6.981, 'lower quartile': 11.688, 'median': 13.405, 'upper quartile': 15.96, 'sample maximum': 25.22, 'skew': 0.816}, 'constraints': []}, 'required': True, 'description': 'mean_radius', 'order': 0}, {'dtype': 'float64', 'feature_type': 'Continuous', 'name': 'mean_texture', 'domain': {'values': 'Continuous', 'stats': {'count': 86.0, 'mean': 19.498, 'standard deviation': 4.185, 'sample minimum': 10.94, 'lower quartile': 16.218, 'median': 19.32, 'upper quartile': 22.365, 'sample maximum': 29.33, 'skew': 0.125}, 'constraints': []}, 'required': True, 'description': 'mean_texture', 'order': 1}, {'dtype': 'float64', 'feature_type': 'Continuous', 'name': 'mean_perimeter', 'domain': {'values': 'Continuous', 'stats': {'count': 86.0, 'mean': 92.018, 'standard deviation': 24.706, 'sample minimum': 43.79, 'lower quartile': 75.225, 'median': 87.17, 'upper quartile': 105.175, 'sample maximum': 171.5, 'skew': 0.896}, 'constraints': []}, 'required': True, 'description': 'mean_perimeter', 'order': 2}, {'dtype': 'float64', 'feature_type': 'Continuous', 'name': 'mean_area', 'domain': {'values': 'Continuous', 'stats': {'count': 86.0, 'mean': 651.25, 'standard deviation': 339.543, 'sample minimum': 143.5, 'lower quartile': 419.725, 'median': 544.05, 'upper quartile': 794.0, 'sample maximum': 1878.0, 'skew': 1.309}, 'constraints': []}, 'required': True, 'description': 'mean_area', 'order': 3}, {'dtype': 'float64', 'feature_type': 'Continuous', 'name': 'mean_smoothness', 'domain': {'values': 'Continuous', 'stats': {'count': 86.0, 'mean': 0.099, 'standard deviation': 0.015, 'sample minimum': 0.068, 'lower quartile': 0.089, 'median': 0.1, 'upper quartile': 0.107, 'sample maximum': 0.137, 'skew': 0.258}, 'constraints': []}, 'required': True, 'description': 'mean_smoothness', 'order': 4}, {'dtype': 'float64', 'feature_type': 'Continuous', 'name': 'mean_compactness', 'domain': {'values': 'Continuous', 'stats': {'count': 86.0, 'mean': 0.107, 'standard deviation': 0.056, 'sample minimum': 0.039, 'lower quartile': 0.069, 'median': 0.097, 'upper quartile': 0.128, 'sample maximum': 0.345, 'skew': 1.678}, 'constraints': []}, 'required': True, 'description': 'mean_compactness', 'order': 5}, {'dtype': 'float64', 'feature_type': 'Continuous', 'name': 'mean_concavity', 'domain': {'values': 'Continuous', 'stats': {'count': 86.0, 'mean': 0.09, 'standard deviation': 0.086, 'sample minimum': 0.0, 'lower quartile': 0.028, 'median': 0.06, 'upper quartile': 0.112, 'sample maximum': 0.375, 'skew': 1.478}, 'constraints': []}, 'required': True, 'description': 'mean_concavity', 'order': 6}, {'dtype': 'float64', 'feature_type': 'Continuous', 'name': 'mean_concave_points', 'domain': {'values': 'Continuous', 'stats': {'count': 86.0, 'mean': 0.052, 'standard deviation': 0.044, 'sample minimum': 0.0, 'lower quartile': 0.02, 'median': 0.033, 'upper quartile': 0.069, 'sample maximum': 0.184, 'skew': 1.228}, 'constraints': []}, 'required': True, 'description': 'mean_concave_points', 'order': 7}, {'dtype': 'float64', 'feature_type': 'Continuous', 'name': 'mean_symmetry', 'domain': {'values': 'Continuous', 'stats': {'count': 86.0, 'mean': 0.185, 'standard deviation': 0.026, 'sample minimum': 0.14, 'lower quartile': 0.166, 'median': 0.182, 'upper quartile': 0.194, 'sample maximum': 0.291, 'skew': 1.131}, 'constraints': []}, 'required': True, 'description': 'mean_symmetry', 'order': 8}, {'dtype': 'float64', 'feature_type': 'Continuous', 'name': 'mean_fractal_dimension', 'domain': {'values': 'Continuous', 'stats': {'count': 86.0, 'mean': 0.063, 'standard deviation': 0.006, 'sample minimum': 0.053, 'lower quartile': 0.059, 'median': 0.062, 'upper quartile': 0.066, 'sample maximum': 0.081, 'skew': 0.807}, 'constraints': []}, 'required': True, 'description': 'mean_fractal_dimension', 'order': 9}, {'dtype': 'float64', 'feature_type': 'Continuous', 'name': 'radius_error', 'domain': {'values': 'Continuous', 'stats': {'count': 86.0, 'mean': 0.403, 'standard deviation': 0.233, 'sample minimum': 0.117, 'lower quartile': 0.222, 'median': 0.314, 'upper quartile': 0.551, 'sample maximum': 1.176, 'skew': 1.193}, 'constraints': []}, 'required': True, 'description': 'radius_error', 'order': 10}, {'dtype': 'float64', 'feature_type': 'Continuous', 'name': 'texture_error', 'domain': {'values': 'Continuous', 'stats': {'count': 86.0, 'mean': 1.23, 'standard deviation': 0.534, 'sample minimum': 0.48, 'lower quartile': 0.821, 'median': 1.103, 'upper quartile': 1.473, 'sample maximum': 2.927, 'skew': 1.079}, 'constraints': []}, 'required': True, 'description': 'texture_error', 'order': 11}, {'dtype': 'float64', 'feature_type': 'Continuous', 'name': 'perimeter_error', 'domain': {'values': 'Continuous', 'stats': {'count': 86.0, 'mean': 2.812, 'standard deviation': 1.723, 'sample minimum': 0.771, 'lower quartile': 1.547, 'median': 2.29, 'upper quartile': 3.683, 'sample maximum': 8.649, 'skew': 1.415}, 'constraints': []}, 'required': True, 'description': 'perimeter_error', 'order': 12}, {'dtype': 'float64', 'feature_type': 'Continuous', 'name': 'area_error', 'domain': {'values': 'Continuous', 'stats': {'count': 86.0, 'mean': 38.773, 'standard deviation': 32.778, 'sample minimum': 8.955, 'lower quartile': 16.68, 'median': 22.905, 'upper quartile': 49.485, 'sample maximum': 158.7, 'skew': 1.719}, 'constraints': []}, 'required': True, 'description': 'area_error', 'order': 13}, {'dtype': 'float64', 'feature_type': 'Continuous', 'name': 'smoothness_error', 'domain': {'values': 'Continuous', 'stats': {'count': 86.0, 'mean': 0.007, 'standard deviation': 0.003, 'sample minimum': 0.003, 'lower quartile': 0.005, 'median': 0.006, 'upper quartile': 0.009, 'sample maximum': 0.015, 'skew': 0.968}, 'constraints': []}, 'required': True, 'description': 'smoothness_error', 'order': 14}, {'dtype': 'float64', 'feature_type': 'Continuous', 'name': 'compactness_error', 'domain': {'values': 'Continuous', 'stats': {'count': 86.0, 'mean': 0.024, 'standard deviation': 0.014, 'sample minimum': 0.006, 'lower quartile': 0.014, 'median': 0.02, 'upper quartile': 0.033, 'sample maximum': 0.068, 'skew': 1.059}, 'constraints': []}, 'required': True, 'description': 'compactness_error', 'order': 15}, {'dtype': 'float64', 'feature_type': 'Continuous', 'name': 'concavity_error', 'domain': {'values': 'Continuous', 'stats': {'count': 86.0, 'mean': 0.028, 'standard deviation': 0.021, 'sample minimum': 0.0, 'lower quartile': 0.013, 'median': 0.022, 'upper quartile': 0.04, 'sample maximum': 0.109, 'skew': 1.31}, 'constraints': []}, 'required': True, 'description': 'concavity_error', 'order': 16}, {'dtype': 'float64', 'feature_type': 'Continuous', 'name': 'concave_points_error', 'domain': {'values': 'Continuous', 'stats': {'count': 86.0, 'mean': 0.011, 'standard deviation': 0.006, 'sample minimum': 0.0, 'lower quartile': 0.008, 'median': 0.01, 'upper quartile': 0.015, 'sample maximum': 0.029, 'skew': 0.611}, 'constraints': []}, 'required': True, 'description': 'concave_points_error', 'order': 17}, {'dtype': 'float64', 'feature_type': 'Continuous', 'name': 'symmetry_error', 'domain': {'values': 'Continuous', 'stats': {'count': 86.0, 'mean': 0.021, 'standard deviation': 0.009, 'sample minimum': 0.011, 'lower quartile': 0.015, 'median': 0.019, 'upper quartile': 0.026, 'sample maximum': 0.079, 'skew': 3.252}, 'constraints': []}, 'required': True, 'description': 'symmetry_error', 'order': 18}, {'dtype': 'float64', 'feature_type': 'Continuous', 'name': 'fractal_dimension_error', 'domain': {'values': 'Continuous', 'stats': {'count': 86.0, 'mean': 0.004, 'standard deviation': 0.002, 'sample minimum': 0.001, 'lower quartile': 0.002, 'median': 0.003, 'upper quartile': 0.005, 'sample maximum': 0.01, 'skew': 1.347}, 'constraints': []}, 'required': True, 'description': 'fractal_dimension_error', 'order': 19}, {'dtype': 'float64', 'feature_type': 'Continuous', 'name': 'worst_radius', 'domain': {'values': 'Continuous', 'stats': {'count': 86.0, 'mean': 16.196, 'standard deviation': 4.736, 'sample minimum': 7.93, 'lower quartile': 12.85, 'median': 14.865, 'upper quartile': 19.242, 'sample maximum': 30.0, 'skew': 0.922}, 'constraints': []}, 'required': True, 'description': 'worst_radius', 'order': 20}, {'dtype': 'float64', 'feature_type': 'Continuous', 'name': 'worst_texture', 'domain': {'values': 'Continuous', 'stats': {'count': 86.0, 'mean': 25.609, 'standard deviation': 5.587, 'sample minimum': 12.49, 'lower quartile': 21.095, 'median': 25.8, 'upper quartile': 29.228, 'sample maximum': 39.42, 'skew': 0.052}, 'constraints': []}, 'required': True, 'description': 'worst_texture', 'order': 21}, {'dtype': 'float64', 'feature_type': 'Continuous', 'name': 'worst_perimeter', 'domain': {'values': 'Continuous', 'stats': {'count': 86.0, 'mean': 106.587, 'standard deviation': 33.596, 'sample minimum': 50.41, 'lower quartile': 84.012, 'median': 96.505, 'upper quartile': 124.625, 'sample maximum': 211.7, 'skew': 1.028}, 'constraints': []}, 'required': True, 'description': 'worst_perimeter', 'order': 22}, {'dtype': 'float64', 'feature_type': 'Continuous', 'name': 'worst_area', 'domain': {'values': 'Continuous', 'stats': {'count': 86.0, 'mean': 864.16, 'standard deviation': 523.8, 'sample minimum': 185.2, 'lower quartile': 507.05, 'median': 656.75, 'upper quartile': 1154.5, 'sample maximum': 2562.0, 'skew': 1.287}, 'constraints': []}, 'required': True, 'description': 'worst_area', 'order': 23}, {'dtype': 'float64', 'feature_type': 'Continuous', 'name': 'worst_smoothness', 'domain': {'values': 'Continuous', 'stats': {'count': 86.0, 'mean': 0.135, 'standard deviation': 0.02, 'sample minimum': 0.094, 'lower quartile': 0.123, 'median': 0.136, 'upper quartile': 0.145, 'sample maximum': 0.186, 'skew': 0.234}, 'constraints': []}, 'required': True, 'description': 'worst_smoothness', 'order': 24}, {'dtype': 'float64', 'feature_type': 'Continuous', 'name': 'worst_compactness', 'domain': {'values': 'Continuous', 'stats': {'count': 86.0, 'mean': 0.252, 'standard deviation': 0.155, 'sample minimum': 0.071, 'lower quartile': 0.144, 'median': 0.212, 'upper quartile': 0.311, 'sample maximum': 0.868, 'skew': 1.598}, 'constraints': []}, 'required': True, 'description': 'worst_compactness', 'order': 25}, {'dtype': 'float64', 'feature_type': 'Continuous', 'name': 'worst_concavity', 'domain': {'values': 'Continuous', 'stats': {'count': 86.0, 'mean': 0.259, 'standard deviation': 0.204, 'sample minimum': 0.0, 'lower quartile': 0.095, 'median': 0.204, 'upper quartile': 0.379, 'sample maximum': 0.939, 'skew': 1.095}, 'constraints': []}, 'required': True, 'description': 'worst_concavity', 'order': 26}, {'dtype': 'float64', 'feature_type': 'Continuous', 'name': 'worst_concave_points', 'domain': {'values': 'Continuous', 'stats': {'count': 86.0, 'mean': 0.115, 'standard deviation': 0.068, 'sample minimum': 0.0, 'lower quartile': 0.069, 'median': 0.099, 'upper quartile': 0.164, 'sample maximum': 0.287, 'skew': 0.593}, 'constraints': []}, 'required': True, 'description': 'worst_concave_points', 'order': 27}, {'dtype': 'float64', 'feature_type': 'Continuous', 'name': 'worst_symmetry', 'domain': {'values': 'Continuous', 'stats': {'count': 86.0, 'mean': 0.29, 'standard deviation': 0.053, 'sample minimum': 0.2, 'lower quartile': 0.254, 'median': 0.281, 'upper quartile': 0.319, 'sample maximum': 0.544, 'skew': 1.476}, 'constraints': []}, 'required': True, 'description': 'worst_symmetry', 'order': 28}, {'dtype': 'float64', 'feature_type': 'Continuous', 'name': 'worst_fractal_dimension', 'domain': {'values': 'Continuous', 'stats': {'count': 86.0, 'mean': 0.084, 'standard deviation': 0.015, 'sample minimum': 0.06, 'lower quartile': 0.072, 'median': 0.08, 'upper quartile': 0.093, 'sample maximum': 0.134, 'skew': 1.003}, 'constraints': []}, 'required': True, 'description': 'worst_fractal_dimension', 'order': 29}], 'version': '1.1'}</td>\n",
       "    </tr>\n",
       "    <tr>\n",
       "      <th id=\"T_3988f_level0_row10\" class=\"row_heading level0 row10\" >schema_output</th>\n",
       "      <td id=\"T_3988f_row10_col0\" class=\"data row10 col0\" >{'schema': [{'dtype': 'category', 'feature_type': 'Category', 'name': 'target', 'domain': {'values': 'Category', 'stats': {'count': 86, 'unique': 2}, 'constraints': [{'expression': \"$x in ['benign', 'malignant']\", 'language': 'python'}]}, 'required': True, 'description': 'target', 'order': 0}], 'version': '1.1'}</td>\n",
       "    </tr>\n",
       "    <tr>\n",
       "      <th id=\"T_3988f_level0_row11\" class=\"row_heading level0 row11\" >metadata_custom</th>\n",
       "      <td id=\"T_3988f_row11_col0\" class=\"data row11 col0\" >{'data': [{'key': 'SlugName', 'value': 'NA', 'description': 'The slug name of the training conda environment.', 'category': 'Training Environment'}, {'key': 'CondaEnvironmentPath', 'value': 'NA', 'description': 'The oci path of the training conda environment.', 'category': 'Training Environment'}, {'key': 'ModelArtifacts', 'value': '.model-ignore, input_schema.json, runtime.yaml, output_schema.json, onnx_data_transformer.json, model.onnx, score.py', 'description': 'The list of files located in artifacts folder.', 'category': 'Training Environment'}, {'key': 'CondaEnvironment', 'value': 'NA', 'description': 'The conda environment where the model was trained.', 'category': 'Training Environment'}, {'key': 'ClientLibrary', 'value': 'ADS', 'description': None, 'category': 'Other'}, {'key': 'ModelSerializationFormat', 'value': 'onnx', 'description': 'The model serialization format.', 'category': 'Training Profile'}, {'key': 'EnvironmentType', 'value': 'NA', 'description': \"The environment type, must be a 'published' or 'data_science'.\", 'category': 'Training Environment'}]}</td>\n",
       "    </tr>\n",
       "    <tr>\n",
       "      <th id=\"T_3988f_level0_row12\" class=\"row_heading level0 row12\" >metadata_taxonomy</th>\n",
       "      <td id=\"T_3988f_row12_col0\" class=\"data row12 col0\" >{'data': [{'key': 'Algorithm', 'value': 'XGBClassifier'}, {'key': 'ArtifactTestResults', 'value': None}, {'key': 'Framework', 'value': 'xgboost'}, {'key': 'UseCaseType', 'value': None}, {'key': 'FrameworkVersion', 'value': '1.5.1'}, {'key': 'Hyperparameters', 'value': {'objective': 'binary:logistic', 'use_label_encoder': True, 'base_score': 0.5, 'booster': 'gbtree', 'colsample_bylevel': 1, 'colsample_bynode': 1, 'colsample_bytree': 1, 'enable_categorical': False, 'gamma': 0, 'gpu_id': -1, 'importance_type': None, 'interaction_constraints': '', 'learning_rate': 0.300000012, 'max_delta_step': 0, 'max_depth': 6, 'min_child_weight': 1, 'missing': None, 'monotone_constraints': '()', 'n_estimators': 100, 'n_jobs': 8, 'num_parallel_tree': 1, 'predictor': 'auto', 'random_state': 0, 'reg_alpha': 0, 'reg_lambda': 1, 'scale_pos_weight': 1, 'subsample': 1, 'tree_method': 'exact', 'validate_parameters': 1, 'verbosity': None}}]}</td>\n",
       "    </tr>\n",
       "  </tbody>\n",
       "</table>"
      ]
     },
     "execution_count": 9,
     "metadata": {},
     "output_type": "execute_result"
    }
   ],
   "source": [
    "# Print published model information\n",
    "mc_model"
   ]
  },
  {
   "cell_type": "markdown",
   "metadata": {},
   "source": [
    "## Deploying the model with Model Deployment\n",
    "\n",
    "We are ready to deploy `mc_model`. We are using the user principal (config+key) method of authentication. Alternatively you can use resource principal. "
   ]
  },
  {
   "cell_type": "code",
   "execution_count": 10,
   "metadata": {},
   "outputs": [],
   "source": [
    "# Getting OCI config information\n",
    "oci_config = oci.config.from_file(\"~/.oci/config\", \"specialist2-4sdk\")\n",
    "# Setting up DataScience instance\n",
    "data_science = oci.data_science.DataScienceClient(oci_config)\n",
    "# Setting up data science composite client to unlock wait_for_state operations\n",
    "data_science_composite = oci.data_science.DataScienceClientCompositeOperations(data_science)"
   ]
  },
  {
   "cell_type": "markdown",
   "metadata": {},
   "source": [
    "The model deployment configuration object: "
   ]
  },
  {
   "cell_type": "code",
   "execution_count": 11,
   "metadata": {},
   "outputs": [],
   "source": [
    "# Prepareing model deployment data\n",
    "model_deployment_details = {\n",
    "    \"displayName\": \"XGB model test - ONNX\",\n",
    "    \"projectId\": mc_model.project_id,\n",
    "    \"compartmentId\": mc_model.compartment_id,\n",
    "    \"modelDeploymentConfigurationDetails\": {\n",
    "        \"deploymentType\": \"SINGLE_MODEL\",\n",
    "        \"modelConfigurationDetails\": {\n",
    "            \"modelId\": mc_model.id,\n",
    "            \"instanceConfiguration\": {\n",
    "                \"instanceShapeName\": \"VM.Standard2.4\"\n",
    "            },\n",
    "            \"scalingPolicy\": {\n",
    "                \"policyType\": \"FIXED_SIZE\",\n",
    "                \"instanceCount\": 2\n",
    "            },\n",
    "            \"bandwidthMbps\": 10\n",
    "        }\n",
    "    },\n",
    "    \"categoryLogDetails\": None\n",
    "}"
   ]
  },
  {
   "cell_type": "markdown",
   "metadata": {},
   "source": [
    "We are now ready to deploy. This takes a few minutes to complete. "
   ]
  },
  {
   "cell_type": "code",
   "execution_count": 12,
   "metadata": {},
   "outputs": [
    {
     "name": "stdout",
     "output_type": "stream",
     "text": [
      "CPU times: user 901 ms, sys: 133 ms, total: 1.03 s\n",
      "Wall time: 14min 58s\n"
     ]
    }
   ],
   "source": [
    "%%time\n",
    "\n",
    "model_deployment = data_science_composite.create_model_deployment_and_wait_for_state(model_deployment_details,\n",
    "                                                                                     wait_for_states=[\"SUCCEEDED\",\n",
    "                                                                                                      \"FAILED\"])"
   ]
  },
  {
   "cell_type": "markdown",
   "metadata": {},
   "source": [
    "Let's make sure our deployment was successful: "
   ]
  },
  {
   "cell_type": "code",
   "execution_count": 13,
   "metadata": {},
   "outputs": [
    {
     "name": "stdout",
     "output_type": "stream",
     "text": [
      "Grabbing the model deployment ocid...\n",
      "Model deployment ocid: ocid1.datasciencemodeldeployment.oc1.ap-singapore-1.amaaaaaacuco5yqamv7spddd6xljm326zenzw3xuaevgcuvw6slbs6g63iga\n"
     ]
    }
   ],
   "source": [
    "print(\"Grabbing the model deployment ocid...\")\n",
    "model_deployment_data = json.loads(str(model_deployment.data))\n",
    "model_deployment_id = model_deployment_data['resources'][0]['identifier']\n",
    "print(f\"Model deployment ocid: {model_deployment_id}\")\n",
    "\n",
    "# check if the model deployment was successful: \n",
    "assert model_deployment.status == 200, f\"Model deployment issued an HTTP error code: {model_deployment.status}\""
   ]
  },
  {
   "cell_type": "markdown",
   "metadata": {},
   "source": [
    "If the model deployment was unsuccessful, we recommend that you follow the Troubleshooting guide in our service documentation. "
   ]
  },
  {
   "cell_type": "markdown",
   "metadata": {},
   "source": [
    "## Invoking the Model Deployment `/predict` Endpoint "
   ]
  },
  {
   "cell_type": "markdown",
   "metadata": {},
   "source": [
    "Lastly we want to invoke the `/predict` endpoint of the deployed model and make inferences on a batch of "
   ]
  },
  {
   "cell_type": "code",
   "execution_count": 14,
   "metadata": {},
   "outputs": [],
   "source": [
    "import requests\n",
    "import oci\n",
    "from oci.signer import Signer"
   ]
  },
  {
   "cell_type": "markdown",
   "metadata": {},
   "source": [
    "Before you can execute the cell below, copy and paste the URI of your model deployment. You can find that value in the OCI console under the detail page of your model deployment. In the **Resources** menu of the detail page, click on **\"Invoking Your Model\"**. You will find the HTTP endpoint of the model. "
   ]
  },
  {
   "cell_type": "code",
   "execution_count": 15,
   "metadata": {},
   "outputs": [
    {
     "name": "stdout",
     "output_type": "stream",
     "text": [
      "https://modeldeployment.ap-singapore-1.oci.customer-oci.com/ocid1.datasciencemodeldeployment.oc1.ap-singapore-1.amaaaaaacuco5yqamv7spddd6xljm326zenzw3xuaevgcuvw6slbs6g63iga/predict\n"
     ]
    }
   ],
   "source": [
    "uri = f\"https://modeldeployment.ap-singapore-1.oci.customer-oci.com/ocid1.datasciencemodeldeployment.oc1.ap-singapore-1.amaaaaaacuco5yqamv7spddd6xljm326zenzw3xuaevgcuvw6slbs6g63iga/predict\"\n",
    "print(uri)"
   ]
  },
  {
   "cell_type": "code",
   "execution_count": 16,
   "metadata": {},
   "outputs": [],
   "source": [
    "using_rps = False\n",
    "\n",
    "# payload: \n",
    "input_data = train.X[:5].to_json()\n",
    "\n",
    "if using_rps: # using resource principal:     \n",
    "    auth = oci.auth.signers.get_resource_principals_signer()\n",
    "else: # using config + key: \n",
    "    config = oci.config.from_file(\"~/.oci/config\", \"specialist2-4sdk\") # replace with the location of your oci config file\n",
    "    auth = Signer(\n",
    "        tenancy=config['tenancy'],\n",
    "        user=config['user'],\n",
    "        fingerprint=config['fingerprint'],\n",
    "        private_key_file_location=config['key_file'],\n",
    "        pass_phrase=config['pass_phrase'])"
   ]
  },
  {
   "cell_type": "code",
   "execution_count": 17,
   "metadata": {},
   "outputs": [
    {
     "name": "stdout",
     "output_type": "stream",
     "text": [
      "CPU times: user 25.6 ms, sys: 10.8 ms, total: 36.4 ms\n",
      "Wall time: 1.28 s\n"
     ]
    }
   ],
   "source": [
    "%%time\n",
    "    \n",
    "# submit request to model endpoint: \n",
    "response = requests.post(uri, json=input_data, auth=auth)"
   ]
  },
  {
   "cell_type": "markdown",
   "metadata": {},
   "source": [
    "Let's take a look at the status code: "
   ]
  },
  {
   "cell_type": "code",
   "execution_count": 18,
   "metadata": {},
   "outputs": [
    {
     "data": {
      "text/plain": [
       "404"
      ]
     },
     "execution_count": 18,
     "metadata": {},
     "output_type": "execute_result"
    }
   ],
   "source": [
    "response.status_code"
   ]
  },
  {
   "cell_type": "markdown",
   "metadata": {},
   "source": [
    "and the model predictions: "
   ]
  },
  {
   "cell_type": "code",
   "execution_count": 19,
   "metadata": {},
   "outputs": [
    {
     "name": "stdout",
     "output_type": "stream",
     "text": [
      "{'code': 'NotAuthorizedOrNotFound', 'message': 'Authorization failed or requested resource not found.'}\n"
     ]
    }
   ],
   "source": [
    "print(json.loads(response.content))"
   ]
  }
 ],
 "metadata": {
  "kernelspec": {
   "display_name": "oci-ai-ads",
   "language": "python",
   "name": "python3"
  },
  "language_info": {
   "codemirror_mode": {
    "name": "ipython",
    "version": 3
   },
   "file_extension": ".py",
   "mimetype": "text/x-python",
   "name": "python",
   "nbconvert_exporter": "python",
   "pygments_lexer": "ipython3",
   "version": "3.9.6"
  },
  "vscode": {
   "interpreter": {
    "hash": "ffa9ff0fcb4d46b66466ada4e72d60e2621cbff27c9ab57e0d498bbcb6f4a338"
   }
  }
 },
 "nbformat": 4,
 "nbformat_minor": 4
}
